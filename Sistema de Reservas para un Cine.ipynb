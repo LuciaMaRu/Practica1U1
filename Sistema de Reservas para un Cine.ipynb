{
 "cells": [
  {
   "cell_type": "code",
   "execution_count": 772,
   "metadata": {},
   "outputs": [],
   "source": [
    "class Pelicula:\n",
    "    def __init__(self, titulo, duracion, genero, clasificacion):\n",
    "        self.titulo= titulo\n",
    "        self.duracion= duracion\n",
    "        self.genero= genero\n",
    "        self.clasificacion= clasificacion\n",
    "\n",
    "    def detalles(self):\n",
    "        print(f'Titulo: {self.titulo} |Duración: {self.duracion} min |Género: {self.genero} |Clasificación: {self.clasificacion}')       "
   ]
  },
  {
   "cell_type": "code",
   "execution_count": 773,
   "metadata": {},
   "outputs": [
    {
     "name": "stdout",
     "output_type": "stream",
     "text": [
      "Titulo: Avatar |Duración: 162 min |Género: Acción/Cienca Ficción |Clasificación: PG-13\n",
      "Titulo: CJ7 |Duración: 88 min |Género: Ciencia ficción humorística/Fantasía y familiar |Clasificación: PG\n"
     ]
    }
   ],
   "source": [
    "Pelicula1= Pelicula(\"Avatar\", 162,\"Acción/Cienca Ficción\",\"PG-13\")\n",
    "Pelicula2= Pelicula(\"CJ7\", 88, \"Ciencia ficción humorística/Fantasía y familiar\", \"PG\")\n",
    "Pelicula1.detalles()\n",
    "Pelicula2.detalles()"
   ]
  },
  {
   "cell_type": "code",
   "execution_count": 774,
   "metadata": {},
   "outputs": [],
   "source": [
    "class Espacio:\n",
    "    def __init__(self, ID, capacidad):\n",
    "        self.ID= ID\n",
    "        self.capacidad= capacidad\n",
    "        \n",
    "    def descripcion(self):\n",
    "        print(f'El espacio {self.ID}, tiene capacidad para {self.capacidad} personas')"
   ]
  },
  {
   "cell_type": "code",
   "execution_count": 775,
   "metadata": {},
   "outputs": [],
   "source": [
    "class ZonaComida(Espacio):\n",
    "    def __init__(self, ID, capacidad, productos, precios):\n",
    "        super().__init__(ID, capacidad)\n",
    "        self.productos= productos\n",
    "        self.precios= precios\n",
    "    \n",
    "    def menu(self):\n",
    "        print(\"Menú:\")\n",
    "        for producto, precio in zip(self.productos, self.precios):\n",
    "            print(f'{producto}: ${precio}')"
   ]
  },
  {
   "cell_type": "code",
   "execution_count": 776,
   "metadata": {},
   "outputs": [
    {
     "name": "stdout",
     "output_type": "stream",
     "text": [
      "El espacio Zona 1, tiene capacidad para 30 personas\n",
      "Menú:\n",
      "Hot Dog: $35\n",
      "Palomitas: $20\n",
      "Hamburguesa: $120\n",
      "Refrescos: $15\n",
      "Agua natural: $10\n"
     ]
    }
   ],
   "source": [
    "productos1= [\"Hot Dog\", \"Palomitas\", \"Hamburguesa\", \"Refrescos\", \"Agua natural\"]\n",
    "precios1=[35, 20, 120, 15, 10]\n",
    "Zona1= ZonaComida(\"Zona 1\", 30, productos1, precios1)\n",
    "Zona1.descripcion()\n",
    "Zona1.menu()"
   ]
  },
  {
   "cell_type": "code",
   "execution_count": 777,
   "metadata": {},
   "outputs": [],
   "source": [
    "class Sala(Espacio):\n",
    "    def __init__(self, ID, capacidad, tipo):\n",
    "        super().__init__(ID, capacidad)\n",
    "        self.tipo= tipo      \n",
    "\n",
    "    def consultar_disponibilidad(self):\n",
    "        if self.capacidad >0:\n",
    "            print(f'La {self.ID} está disponible')\n",
    "        else: \n",
    "            print(f'La {self.ID} no está disponible')"
   ]
  },
  {
   "cell_type": "code",
   "execution_count": 778,
   "metadata": {},
   "outputs": [
    {
     "name": "stdout",
     "output_type": "stream",
     "text": [
      "El espacio Sala 1, tiene capacidad para 100 personas\n",
      "La Sala 1 está disponible\n",
      "El espacio Sala 2, tiene capacidad para 50 personas\n",
      "La Sala 2 está disponible\n",
      "El espacio Sala 3, tiene capacidad para 70 personas\n",
      "El espacio Sala 4, tiene capacidad para 100 personas\n"
     ]
    }
   ],
   "source": [
    "Sala1= Sala(\"Sala 1\", 100, \"2D\")\n",
    "Sala1.descripcion()\n",
    "Sala1.consultar_disponibilidad()\n",
    "\n",
    "Sala2= Sala(\"Sala 2\", 50, \"3D\")\n",
    "Sala2.descripcion()\n",
    "Sala2.consultar_disponibilidad()\n",
    "\n",
    "Sala3= Sala(\"Sala 3\", 70, \"2D\")\n",
    "Sala3.descripcion()\n",
    "\n",
    "Sala4= Sala(\"Sala 4\", 100, \"4D\")\n",
    "Sala4.descripcion()\n"
   ]
  },
  {
   "cell_type": "code",
   "execution_count": 779,
   "metadata": {},
   "outputs": [],
   "source": [
    "class Funcion:\n",
    "    def __init__(self, sala, hora, pelicula, precio):\n",
    "        self.sala= sala\n",
    "        self.hora= hora\n",
    "        self.pelicula= pelicula\n",
    "        self.precio= precio\n",
    "\n",
    "    def detalles(self):\n",
    "        print(f'La función es en la {self.sala.ID} a las {self.hora}, se proyectará la palicula {self.pelicula.titulo}. Costo: ${self.precio}')\n",
    "\n",
    "    def asientos_disponibles(self):\n",
    "        print(f'Asientos disponibles: {self.sala.capacidad}') "
   ]
  },
  {
   "cell_type": "code",
   "execution_count": 780,
   "metadata": {},
   "outputs": [
    {
     "name": "stdout",
     "output_type": "stream",
     "text": [
      "La función es en la Sala 1 a las 14:30, se proyectará la palicula CJ7. Costo: $75\n",
      "La función es en la Sala 2 a las 20:00, se proyectará la palicula Avatar. Costo: $200\n"
     ]
    }
   ],
   "source": [
    "Funcion1=Funcion(Sala1, \"14:30\", Pelicula2, 75)\n",
    "Funcion2=Funcion(Sala2, \"20:00\", Pelicula1, 200)\n",
    "Funcion1.detalles()\n",
    "Funcion2.detalles()"
   ]
  },
  {
   "cell_type": "code",
   "execution_count": 781,
   "metadata": {},
   "outputs": [],
   "source": [
    "class Promo:\n",
    "    def __init__(self, porcentaje, compra):\n",
    "        self.porcentaje= porcentaje\n",
    "        self.compra= compra \n",
    "\n",
    "    def descripcion(self):\n",
    "        print(f'Aplica {self.porcentaje}% de descueto al comprar {self.compra} boletos')\n",
    "        \n",
    "    def condicion(self, cantidad_boletos):\n",
    "        if cantidad_boletos == self.compra:\n",
    "            return True\n",
    "        else: \n",
    "            return False\n",
    "    \n",
    "        "
   ]
  },
  {
   "cell_type": "code",
   "execution_count": 782,
   "metadata": {},
   "outputs": [
    {
     "name": "stdout",
     "output_type": "stream",
     "text": [
      "Aplica 30% de descueto al comprar 2 boletos\n",
      "Aplica 50% de descueto al comprar 10 boletos\n"
     ]
    }
   ],
   "source": [
    "Promo1= Promo(30, 2)\n",
    "Promo1.descripcion()\n",
    "\n",
    "Promo2= Promo(50, 10)\n",
    "Promo2.descripcion()"
   ]
  },
  {
   "cell_type": "code",
   "execution_count": 783,
   "metadata": {},
   "outputs": [],
   "source": [
    "class Persona:\n",
    "    listapersonas=[]\n",
    "    def __init__(self, nombre, correo):\n",
    "        self.nombre= nombre\n",
    "        self.correo= correo\n",
    "    \n",
    "    def registrar(self):\n",
    "        Persona.listapersonas.append(self)\n",
    "        print(f'Se registró correctamente a {self.nombre} con correo de contacto {self.correo}')\n",
    "    \n",
    "    def cambiarnombre(self, nombrenuevo):\n",
    "        self.nombre=nombrenuevo\n",
    "        print(f'Se ha actualizado el nombre a: {self.nombre}')\n",
    "    def cambiarcorreo(self, correonuevo):\n",
    "        self.correo= correonuevo\n",
    "        print(f'Se ha actualizado el correo a: {self.correo}')\n",
    "\n",
    "    @classmethod\n",
    "    def personas_registradas(cls):\n",
    "        print(\"Personas registradas:\")\n",
    "        for persona in cls.listapersonas:\n",
    "            print(f\"-{persona.nombre} - {persona.correo}\")\n"
   ]
  },
  {
   "cell_type": "code",
   "execution_count": 784,
   "metadata": {},
   "outputs": [],
   "source": [
    "class Usuario(Persona):\n",
    "    \n",
    "\n",
    "    def __init__(self, nombre, correo):\n",
    "        super().__init__(nombre, correo)\n",
    "        self.numreservas=[]\n",
    "    \n",
    "    def reservar(self, funcion, asientos, promo=None):\n",
    "\n",
    "        if asientos <= funcion.sala.capacidad : \n",
    "            \n",
    "            self.numreservas.append({\"funcion\": funcion, \"asientos\": asientos})\n",
    "            print(f'Se realizó una reserva para {funcion.pelicula.titulo} en la {funcion.sala.ID}')\n",
    "            \n",
    "            total= funcion.precio * asientos\n",
    "\n",
    "            if promo and promo.condicion(asientos):\n",
    "                descuento = (promo.porcentaje / 100) * total\n",
    "                total = total- descuento\n",
    "                print(f'Se aplicó un descuento del {promo.porcentaje}%')\n",
    "            else: \n",
    "                print(f'No se aplicó ninguna promoción')\n",
    "                \n",
    "            funcion.sala.capacidad -= asientos\n",
    "            \n",
    "            print(f'El costo es de ${total}')\n",
    "        else: \n",
    "            print('No hay suficientes asientos disponibles')\n",
    "\n",
    "        \n",
    "    def cancelar_reserva(self, funcion ):\n",
    "        reserva= next((r for r in self.numreservas if r[\"funcion\"]==funcion), None)\n",
    "        if reserva:\n",
    "            funcion.sala.capacidad += reserva[\"asientos\"]\n",
    "            self.numreservas.remove(reserva)\n",
    "            print(f'Se ha cancelado la reserva para {funcion.pelicula.titulo}')\n",
    "        else:\n",
    "            print('No existe una reserva para esa función')\n",
    "    \n",
    "    def reservas(self):\n",
    "        print(f'Reservas de {self.nombre}:')\n",
    "        if not self.numreservas:\n",
    "            print(\"No tienes reservas\")\n",
    "        else:\n",
    "             for reserva in self.numreservas:\n",
    "                funcion= reserva[\"funcion\"]\n",
    "                asientos= reserva[\"asientos\"]\n",
    "                print(f\"-{funcion.pelicula.titulo} en la {funcion.sala.ID} a las {funcion.hora}| Asientos: {asientos}\")\n"
   ]
  },
  {
   "cell_type": "code",
   "execution_count": 785,
   "metadata": {},
   "outputs": [
    {
     "name": "stdout",
     "output_type": "stream",
     "text": [
      "Se registró correctamente a María con correo de contacto maria@gmail.com\n",
      "Se realizó una reserva para CJ7 en la Sala 1\n",
      "No se aplicó ninguna promoción\n",
      "El costo es de $7500\n",
      "Asientos disponibles: 0\n"
     ]
    }
   ],
   "source": [
    "Usuario1= Usuario(\"María\", \"maria@gmail.com\")\n",
    "Usuario1.registrar()\n",
    "Usuario1.reservar(Funcion1, 100, Promo1)\n",
    "Funcion1.asientos_disponibles()\n"
   ]
  },
  {
   "cell_type": "code",
   "execution_count": 786,
   "metadata": {},
   "outputs": [
    {
     "name": "stdout",
     "output_type": "stream",
     "text": [
      "Se registró correctamente a Ximena con correo de contacto ximena@alm.buap.mx\n",
      "Se realizó una reserva para Avatar en la Sala 2\n",
      "Se aplicó un descuento del 50%\n",
      "El costo es de $1000.0\n"
     ]
    }
   ],
   "source": [
    "Usuario2= Usuario(\"Ximena\", \"ximena@alm.buap.mx\")\n",
    "Usuario2.registrar()\n",
    "Usuario2.reservar(Funcion2, 10, Promo2)"
   ]
  },
  {
   "cell_type": "code",
   "execution_count": 787,
   "metadata": {},
   "outputs": [
    {
     "name": "stdout",
     "output_type": "stream",
     "text": [
      "Se registró correctamente a Anna con correo de contacto anna37@alm.buap.mx\n",
      "Se realizó una reserva para Avatar en la Sala 2\n",
      "No se aplicó ninguna promoción\n",
      "El costo es de $200\n"
     ]
    }
   ],
   "source": [
    "Usuario3= Usuario(\"Anna\", \"anna37@alm.buap.mx\")\n",
    "Usuario3.registrar()\n",
    "Usuario3.reservar(Funcion2, 1, Promo2)"
   ]
  },
  {
   "cell_type": "code",
   "execution_count": 788,
   "metadata": {},
   "outputs": [],
   "source": [
    "class Empleado(Persona):\n",
    "    def __init__(self, nombre, contacto, rol):\n",
    "        super().__init__(nombre, contacto)\n",
    "        self.rol=rol\n",
    "\n",
    "    def agregar_funcion(self, funcion):\n",
    "        if self.rol == (\"taquillero\") or self.rol == (\"admin\"):\n",
    "            print(f'Nueva función: {funcion.pelicula.titulo} a las {funcion.hora} en la {funcion.sala.ID}')\n",
    "        else:\n",
    "            print(f'No tiene permiso para agregar funciones')\n",
    "  \n",
    "    def agregar_promo(self, promocion):\n",
    "        if self.rol == (\"taquillero\") or self.rol == (\"admin\"):\n",
    "            promocion.descripcion()\n",
    "        else: \n",
    "            print(f'No tiene permiso para agregar una promoción')  "
   ]
  },
  {
   "cell_type": "code",
   "execution_count": 789,
   "metadata": {},
   "outputs": [
    {
     "name": "stdout",
     "output_type": "stream",
     "text": [
      "Se registró correctamente a Sergio con correo de contacto Sergio@cine.mx\n",
      "Nueva función: El lorax a las 10:00 en la Sala 3\n",
      "Aplica 10% de descueto al comprar 1 boletos\n"
     ]
    }
   ],
   "source": [
    "\n",
    "Pelicula3= Pelicula(\"El lorax\", 86, \"Infantil/Musical\", \"AA\" )\n",
    "Funcion3= Funcion(Sala3, \"10:00\", Pelicula3, 80)\n",
    "Promo3= Promo(10, 1)\n",
    "\n",
    "Empleado1= Empleado(\"Sergio\", \"Sergio@cine.mx\", \"taquillero\")\n",
    "Empleado1.registrar()\n",
    "Empleado1.agregar_funcion(Funcion3)\n",
    "Empleado1.agregar_promo(Promo3)\n"
   ]
  },
  {
   "cell_type": "code",
   "execution_count": 790,
   "metadata": {},
   "outputs": [
    {
     "name": "stdout",
     "output_type": "stream",
     "text": [
      "Se registró correctamente a Fernando con correo de contacto fer@hotmail.com\n",
      "No tiene permiso para agregar funciones\n",
      "No tiene permiso para agregar una promoción\n"
     ]
    }
   ],
   "source": [
    "Pelicula4= Pelicula(\"Chicas Pesadas\", 97, \"Comedia/Romance\", \"B\" )\n",
    "Funcion4= Funcion(Sala4, \"12:30\", Pelicula4, 100)\n",
    "Promo4= Promo(100, 1)\n",
    "\n",
    "Empleado2= Empleado(\"Fernando\", \"fer@hotmail.com\", \"limpieza\")\n",
    "Empleado2.registrar()\n",
    "Empleado2.agregar_funcion(Funcion4)\n",
    "Empleado2.agregar_promo(Promo4)"
   ]
  },
  {
   "cell_type": "code",
   "execution_count": 791,
   "metadata": {},
   "outputs": [
    {
     "name": "stdout",
     "output_type": "stream",
     "text": [
      "Se ha actualizado el correo a: XIMENA@gmail\n"
     ]
    }
   ],
   "source": [
    "Usuario2.cambiarcorreo(\"XIMENA@gmail\")"
   ]
  },
  {
   "cell_type": "code",
   "execution_count": 792,
   "metadata": {},
   "outputs": [
    {
     "name": "stdout",
     "output_type": "stream",
     "text": [
      "Se ha actualizado el nombre a: Sofía\n"
     ]
    }
   ],
   "source": [
    "Usuario3.cambiarnombre(\"Sofía\")"
   ]
  },
  {
   "cell_type": "code",
   "execution_count": 793,
   "metadata": {},
   "outputs": [
    {
     "name": "stdout",
     "output_type": "stream",
     "text": [
      "Personas registradas:\n",
      "-María - maria@gmail.com\n",
      "-Ximena - XIMENA@gmail\n",
      "-Sofía - anna37@alm.buap.mx\n",
      "-Sergio - Sergio@cine.mx\n",
      "-Fernando - fer@hotmail.com\n"
     ]
    }
   ],
   "source": [
    "Persona.personas_registradas()"
   ]
  },
  {
   "cell_type": "code",
   "execution_count": 794,
   "metadata": {},
   "outputs": [
    {
     "name": "stdout",
     "output_type": "stream",
     "text": [
      "La Sala 1 no está disponible\n",
      "Asientos disponibles: 0\n"
     ]
    }
   ],
   "source": [
    "Sala1.consultar_disponibilidad()\n",
    "Funcion1.asientos_disponibles()"
   ]
  },
  {
   "cell_type": "code",
   "execution_count": 795,
   "metadata": {},
   "outputs": [
    {
     "name": "stdout",
     "output_type": "stream",
     "text": [
      "La Sala 2 está disponible\n",
      "Asientos disponibles: 39\n"
     ]
    }
   ],
   "source": [
    "Sala2.consultar_disponibilidad()\n",
    "Funcion2.asientos_disponibles()"
   ]
  },
  {
   "cell_type": "code",
   "execution_count": 796,
   "metadata": {},
   "outputs": [
    {
     "name": "stdout",
     "output_type": "stream",
     "text": [
      "Reservas de María:\n",
      "-CJ7 en la Sala 1 a las 14:30| Asientos: 100\n",
      "Reservas de Ximena:\n",
      "-Avatar en la Sala 2 a las 20:00| Asientos: 10\n",
      "Reservas de Sofía:\n",
      "-Avatar en la Sala 2 a las 20:00| Asientos: 1\n"
     ]
    }
   ],
   "source": [
    "Usuario1.reservas()\n",
    "Usuario2.reservas()\n",
    "Usuario3.reservas()"
   ]
  },
  {
   "cell_type": "code",
   "execution_count": 797,
   "metadata": {},
   "outputs": [
    {
     "name": "stdout",
     "output_type": "stream",
     "text": [
      "Se ha cancelado la reserva para CJ7\n"
     ]
    }
   ],
   "source": [
    "Usuario1.cancelar_reserva(Funcion1)"
   ]
  },
  {
   "cell_type": "code",
   "execution_count": 799,
   "metadata": {},
   "outputs": [
    {
     "name": "stdout",
     "output_type": "stream",
     "text": [
      "Reservas de María:\n",
      "No tienes reservas\n",
      "La Sala 1 está disponible\n",
      "Asientos disponibles: 100\n"
     ]
    }
   ],
   "source": [
    "Usuario1.reservas()\n",
    "Sala1.consultar_disponibilidad()\n",
    "Funcion1.asientos_disponibles()"
   ]
  },
  {
   "cell_type": "code",
   "execution_count": null,
   "metadata": {},
   "outputs": [],
   "source": []
  }
 ],
 "metadata": {
  "kernelspec": {
   "display_name": "Python 3",
   "language": "python",
   "name": "python3"
  },
  "language_info": {
   "codemirror_mode": {
    "name": "ipython",
    "version": 3
   },
   "file_extension": ".py",
   "mimetype": "text/x-python",
   "name": "python",
   "nbconvert_exporter": "python",
   "pygments_lexer": "ipython3",
   "version": "3.12.5"
  }
 },
 "nbformat": 4,
 "nbformat_minor": 2
}
