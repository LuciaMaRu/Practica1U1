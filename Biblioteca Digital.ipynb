{
 "cells": [
  {
   "cell_type": "code",
   "execution_count": 189,
   "metadata": {},
   "outputs": [],
   "source": [
    "from datetime import datetime, timedelta"
   ]
  },
  {
   "cell_type": "code",
   "execution_count": 190,
   "metadata": {},
   "outputs": [],
   "source": [
    "class Material:\n",
    "    def __init__(self, titulo, categoria):\n",
    "        self.titulo= titulo\n",
    "        self.categoria= categoria\n",
    "        self.estado=\"disponible\"\n",
    "        self.fecha_prestamo = None\n",
    "    \n",
    "    def cambiar_estado(self, estado):\n",
    "        self.estado= estado\n",
    "        print(f'Estado de {self.titulo}: {self.estado}')    \n",
    "\n",
    "    def detalles(self):\n",
    "        print(f'Titulo: {self.titulo} |Estado: {self.estado}')"
   ]
  },
  {
   "cell_type": "code",
   "execution_count": 191,
   "metadata": {},
   "outputs": [],
   "source": [
    "class Libro(Material):\n",
    "    def __init__(self, titulo, autor, genero):\n",
    "        super().__init__(titulo, \"Libro\")\n",
    "        self.autor= autor\n",
    "        self.genero= genero\n",
    "\n",
    "    def detalles(self):\n",
    "        print(f'Título: {self.titulo} |Autor: {self.autor} |Género: {self.genero} |Estado: {self.estado}')"
   ]
  },
  {
   "cell_type": "code",
   "execution_count": 192,
   "metadata": {},
   "outputs": [],
   "source": [
    "class Revista(Material):\n",
    "    def __init__(self, titulo, edicion, periocidad):\n",
    "        super().__init__(titulo, \"Revista\")\n",
    "        self.edicion= edicion\n",
    "        self.periocidad= periocidad\n",
    "\n",
    "    def detalles(self):\n",
    "        print(f'Título: {self.titulo} |Edición: {self.edicion} |Periocidad: {self.periocidad} |Estado: {self.estado}')"
   ]
  },
  {
   "cell_type": "code",
   "execution_count": 193,
   "metadata": {},
   "outputs": [],
   "source": [
    "class MaterialDigital(Material):\n",
    "    def __init__(self, titulo, tipo_archivo, enlace):\n",
    "        super().__init__(titulo, \"Material Digital\")\n",
    "        self.tipo_archivo= tipo_archivo\n",
    "        self.enlace= enlace\n",
    "\n",
    "    def detalles(self):\n",
    "        print(f'Título: {self.titulo} |Tipo de archivo: {self.tipo_archivo} |Enlace: {self.enlace} ')"
   ]
  },
  {
   "cell_type": "code",
   "execution_count": 194,
   "metadata": {},
   "outputs": [],
   "source": [
    "class Persona:\n",
    "    listapersonas= []\n",
    "\n",
    "    def __init__(self, nombre, correo):\n",
    "        self.nombre= nombre\n",
    "        self.correo= correo\n",
    "        \n",
    "    def registrar(self):\n",
    "        Persona.listapersonas.append(self)\n",
    "        print(f'Se registró correctamente a {self.nombre} con correo de contacto {self.correo}')\n",
    "    \n",
    "    def cambiarnombre(self, nombrenuevo):\n",
    "        self.nombre=nombrenuevo\n",
    "        print(f'Se ha actualizado el nombre a: {self.nombre}')\n",
    "    def cambiarcorreo(self, correonuevo):\n",
    "        self.correo= correonuevo\n",
    "        print(f'Se ha actualizado el correo a: {self.correo}')\n",
    " \n",
    "    @classmethod\n",
    "    def personas_registradas(cls):\n",
    "        print(\"Personas registradas:\")\n",
    "        for persona in cls.listapersonas:\n",
    "            print(f\"-{persona.nombre} - {persona.correo}\")"
   ]
  },
  {
   "cell_type": "code",
   "execution_count": 195,
   "metadata": {},
   "outputs": [],
   "source": [
    "class Usuario(Persona):\n",
    "    def __init__(self, nombre, correo):\n",
    "        super().__init__(nombre, correo)\n",
    "        self.materiales_prestados= []\n",
    "    \n",
    "    def consultar_catálogo(self, catalogo):\n",
    "        catalogo.mostrar_materiales()\n",
    "        \n",
    "    def recibir_material(self, material):\n",
    "        if material.estado == \"disponible\":\n",
    "            self.materiales_prestados.append(material)\n",
    "            material.cambiar_estado(\"prestado\")\n",
    "            print(f\"{self.nombre} ha recibido el material: {material.titulo}\")\n",
    "        else:\n",
    "            print(f\"El material '{material.titulo}' no está disponible.\")\n",
    "\n",
    "    def devolver_material(self, material, fecha_devolucion= None):\n",
    "        if material in self.materiales_prestados:\n",
    "            self.materiales_prestados.remove(material)\n",
    "            material.cambiar_estado(\"disponible\")\n",
    "            print(f\"{self.nombre} ha devuelto el material: {material.titulo}\")\n",
    "\n",
    "            if fecha_devolucion is None:\n",
    "                fecha_devolucion= datetime.now()\n",
    "            else: fecha_devolucion= datetime.strptime(fecha_devolucion, \"%d/%m/%Y\")\n",
    "\n",
    "            fecha_prestamo= material.fecha_prestamo\n",
    "            fecha_limite= fecha_prestamo + timedelta(days=7)\n",
    "\n",
    "            if fecha_devolucion > fecha_limite:\n",
    "                retraso= (fecha_devolucion- fecha_limite).days\n",
    "                print(f'{self.nombre} ha devuelto el material {material.titulo} con {retraso} días de retraso')\n",
    "                penalizacion= Penalizacion(monto=3)\n",
    "                penalizacion.agregar_penalizacion(self, retraso)\n",
    "            else:\n",
    "                print(\"Ha devuelto el material a tiempo\")\n",
    "        else:\n",
    "            print(f\"{self.nombre} no ha pedido el material '{material.titulo}' prestado.\")\n",
    "    "
   ]
  },
  {
   "cell_type": "code",
   "execution_count": 196,
   "metadata": {},
   "outputs": [],
   "source": [
    "class Bibliotecario(Persona):\n",
    "    def __init__(self, nombre, correo):\n",
    "        super().__init__(nombre, correo)\n",
    "\n",
    "    def agregar_material(self, material, sucursal):\n",
    "        sucursal.agregar_material(material)\n",
    "\n",
    "    def gestionar_prestamo(self, usuario, material):\n",
    "        if material.estado == \"disponible\":\n",
    "            usuario.recibir_material(material)\n",
    "        else:\n",
    "            print(f\"El material '{material.titulo}' no está disponible.\")\n"
   ]
  },
  {
   "cell_type": "code",
   "execution_count": 197,
   "metadata": {},
   "outputs": [],
   "source": [
    "class Catalogo:\n",
    "    def __init__(self, sucursal):\n",
    "        self.sucursal = sucursal\n",
    "        self.materiales = []\n",
    "\n",
    "    def agregar_material(self, material):\n",
    "        self.materiales.append(material)\n",
    "\n",
    "    def mostrar_materiales(self):\n",
    "        print(f\"Catálogo de {self.sucursal.nombre}:\")\n",
    "        for material in self.materiales:\n",
    "           print(f' {material.detalles()}')\n",
    "\n",
    "    def buscar_material(self, criterio):\n",
    "        print(f\"Resultados de búsqueda para '{criterio}':\")\n",
    "        found= False\n",
    "        for material in self.materiales:\n",
    "            if criterio.lower() in material.titulo.lower():\n",
    "                print(f\"- {material.detalles()}\")\n",
    "                found= True\n",
    "\n",
    "        if not found:\n",
    "            print(\"No se encontraron materiales que coincidan con su búsqueda\")"
   ]
  },
  {
   "cell_type": "code",
   "execution_count": 198,
   "metadata": {},
   "outputs": [],
   "source": [
    "class Sucursal:\n",
    "    def __init__(self, nombre):\n",
    "        self.nombre= nombre\n",
    "        self.catalogo= Catalogo(self)\n",
    "\n",
    "    def agregar_material(self, material):\n",
    "        self.catalogo.agregar_material(material)"
   ]
  },
  {
   "cell_type": "code",
   "execution_count": 199,
   "metadata": {},
   "outputs": [],
   "source": [
    "class Prestamo:\n",
    "    def __init__(self, usuario, material, fecha_prestamo= None, dias_devolucion=7):\n",
    "        self.usuario = usuario\n",
    "        self.material = material\n",
    "         \n",
    "        if fecha_prestamo:\n",
    "            self.fecha= datetime.strptime(fecha_prestamo, \"%d/%m/%Y\")\n",
    "        else:\n",
    "            self.fecha= datetime.now()\n",
    "        \n",
    "        self.material.fecha_prestamo= self.fecha\n",
    "        \n",
    "        self.fecha_devolucion= self.fecha + timedelta(days= dias_devolucion)\n",
    "\n",
    "    def devolver(self):\n",
    "        self.material.cambiar_estado(\"disponible\")\n",
    "        print(f\"El material '{self.material.titulo}' ha sido devuelto por {self.usuario.nombre}\")\n",
    "    \n"
   ]
  },
  {
   "cell_type": "code",
   "execution_count": 200,
   "metadata": {},
   "outputs": [],
   "source": [
    "class Penalizacion:\n",
    "    def __init__(self, monto=3):\n",
    "        self.penalizaciones = {}\n",
    "        self.monto= monto\n",
    "\n",
    "    def agregar_penalizacion(self, usuario, dias_retraso):\n",
    "        if usuario not in self.penalizaciones:\n",
    "            self.penalizaciones[usuario] = 0\n",
    "        self.penalizaciones[usuario] += dias_retraso * self.monto\n",
    "        print(f\"{usuario.nombre} tiene una penalización de ${self.penalizaciones[usuario]}.\")\n",
    "\n",
    "    def mostrar_penalizaciones(self):\n",
    "        for usuario, monto in self.penalizaciones.items():\n",
    "            print(f\"{usuario.nombre}: ${monto}\")"
   ]
  },
  {
   "cell_type": "code",
   "execution_count": 204,
   "metadata": {},
   "outputs": [
    {
     "name": "stdout",
     "output_type": "stream",
     "text": [
      "Se registró correctamente a Fernanda con correo de contacto fer123@buap.mx\n",
      "Se registró correctamente a Carlos con correo de contacto carlos321@buap.mx\n",
      "Catálogo de Sucursal Benito:\n",
      "Título: Chismes |Edición: II |Periocidad: Mensual |Estado: disponible\n",
      " None\n",
      "Título: Libro de Álgebra Lineal |Tipo de archivo: PDF |Enlace: Libro-de-Álgebra-Lineal.pdf \n",
      " None\n",
      "Estado de El lorax: prestado\n",
      "Fernanda ha recibido el material: El lorax\n",
      "Estado de El lorax: disponible\n",
      "Fernanda ha devuelto el material: El lorax\n",
      "Fernanda ha devuelto el material El lorax con 3 días de retraso\n",
      "Fernanda tiene una penalización de $9.\n",
      "Resultados de búsqueda para 'chismes':\n",
      "Título: Chismes |Edición: II |Periocidad: Mensual |Estado: disponible\n",
      "- None\n",
      "Resultados de búsqueda para 'álgebra':\n",
      "Título: Libro de Álgebra Lineal |Tipo de archivo: PDF |Enlace: Libro-de-Álgebra-Lineal.pdf \n",
      "- None\n",
      "Resultados de búsqueda para 'Lorax':\n",
      "No se encontraron materiales que coincidan con su búsqueda\n"
     ]
    }
   ],
   "source": [
    "Usuario1= Usuario(\"Fernanda\", \"fer123@buap.mx\")\n",
    "Usuario1.registrar()\n",
    "Bibliotecario1= Bibliotecario(\"Carlos\", \"carlos321@buap.mx\")\n",
    "Bibliotecario1.registrar()\n",
    "Libro1= Libro(\"El lorax\", \"Dr. Seus\", \"Infantil\")\n",
    "Revista1 = Revista(\"Chismes\", \"II\", \"Mensual\")\n",
    "MaterialDigital1= MaterialDigital(\"Libro de Álgebra Lineal\", \"PDF\", \"Libro-de-Álgebra-Lineal.pdf\")\n",
    "Sucursal1= Sucursal(\"Sucursal Benito\")\n",
    "Sucursal2= Sucursal(\"Sucursal Juarez\")\n",
    "Bibliotecario1.agregar_material(Libro1, Sucursal1)\n",
    "Catalogo1=Catalogo(Sucursal1)\n",
    "Catalogo2= Catalogo(Sucursal2)\n",
    "Catalogo1.agregar_material(Revista1)\n",
    "Catalogo1.agregar_material(MaterialDigital1)\n",
    "Usuario1.consultar_catálogo(Catalogo1)\n",
    "Prestamo1= Prestamo(Usuario1, Libro1, \"10/2/2025\")\n",
    "Usuario1.recibir_material(Libro1)\n",
    "Usuario1.devolver_material(Libro1, \"20/2/2025\")\n",
    "Catalogo1.buscar_material(\"chismes\")\n",
    "Catalogo1.buscar_material(\"álgebra\")\n",
    "Catalogo1.buscar_material(\"Lorax\")"
   ]
  },
  {
   "cell_type": "code",
   "execution_count": null,
   "metadata": {},
   "outputs": [],
   "source": []
  }
 ],
 "metadata": {
  "kernelspec": {
   "display_name": "Python 3",
   "language": "python",
   "name": "python3"
  },
  "language_info": {
   "codemirror_mode": {
    "name": "ipython",
    "version": 3
   },
   "file_extension": ".py",
   "mimetype": "text/x-python",
   "name": "python",
   "nbconvert_exporter": "python",
   "pygments_lexer": "ipython3",
   "version": "3.12.5"
  }
 },
 "nbformat": 4,
 "nbformat_minor": 2
}
